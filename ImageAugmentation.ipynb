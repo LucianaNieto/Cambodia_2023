{
  "metadata": {
    "kernelspec": {
      "language": "python",
      "display_name": "Python 3",
      "name": "python3"
    },
    "language_info": {
      "pygments_lexer": "ipython3",
      "nbconvert_exporter": "python",
      "version": "3.6.4",
      "file_extension": ".py",
      "codemirror_mode": {
        "name": "ipython",
        "version": 3
      },
      "name": "python",
      "mimetype": "text/x-python"
    },
    "colab": {
      "provenance": [],
      "machine_shape": "hm",
      "include_colab_link": true
    },
    "accelerator": "GPU",
    "gpuClass": "standard"
  },
  "nbformat_minor": 0,
  "nbformat": 4,
  "cells": [
    {
      "cell_type": "markdown",
      "metadata": {
        "id": "view-in-github",
        "colab_type": "text"
      },
      "source": [
        "<a href=\"https://colab.research.google.com/github/LucianaNieto/Cambodia_2023/blob/main/ImageAugmentation.ipynb\" target=\"_parent\"><img src=\"https://colab.research.google.com/assets/colab-badge.svg\" alt=\"Open In Colab\"/></a>"
      ]
    },
    {
      "cell_type": "markdown",
      "source": [
        "# Installing & Importing Libraries"
      ],
      "metadata": {
        "id": "VA9APzwxQxJK"
      }
    },
    {
      "cell_type": "code",
      "source": [
        "!pip install keract\n",
        "import keract"
      ],
      "metadata": {
        "execution": {
          "iopub.status.busy": "2021-06-30T08:35:17.758391Z",
          "iopub.execute_input": "2021-06-30T08:35:17.758807Z",
          "iopub.status.idle": "2021-06-30T08:35:29.782674Z",
          "shell.execute_reply.started": "2021-06-30T08:35:17.758727Z",
          "shell.execute_reply": "2021-06-30T08:35:29.781769Z"
        },
        "trusted": true,
        "colab": {
          "base_uri": "https://localhost:8080/"
        },
        "id": "Lx7IZojIQxJK",
        "outputId": "4caa08bc-43df-4050-f59b-557be512c0eb"
      },
      "execution_count": null,
      "outputs": [
        {
          "output_type": "stream",
          "name": "stdout",
          "text": [
            "Looking in indexes: https://pypi.org/simple, https://us-python.pkg.dev/colab-wheels/public/simple/\n",
            "Collecting keract\n",
            "  Downloading keract-4.5.1-py3-none-any.whl (12 kB)\n",
            "Installing collected packages: keract\n",
            "Successfully installed keract-4.5.1\n"
          ]
        }
      ]
    },
    {
      "cell_type": "code",
      "source": [
        "import pickle\n",
        "import numpy as np\n",
        "import pandas as pd\n",
        "from PIL import Image\n",
        "import albumentations as A\n",
        "from IPython.display import SVG\n",
        "import matplotlib.pyplot as plt\n",
        "%matplotlib inline\n",
        "import os, re, sys, random, shutil, cv2\n",
        "\n"
      ],
      "metadata": {
        "execution": {
          "iopub.status.busy": "2021-06-30T08:35:29.784197Z",
          "iopub.execute_input": "2021-06-30T08:35:29.784559Z",
          "iopub.status.idle": "2021-06-30T08:35:31.313161Z",
          "shell.execute_reply.started": "2021-06-30T08:35:29.784489Z",
          "shell.execute_reply": "2021-06-30T08:35:31.312355Z"
        },
        "trusted": true,
        "id": "tvBoJiI6QxJM"
      },
      "execution_count": null,
      "outputs": []
    },
    {
      "cell_type": "code",
      "source": [
        "def augment(width, height):\n",
        "    transform = A.Compose([\n",
        "        A.RandomCrop(width=width, height=height, p=1.0),\n",
        "        A.HorizontalFlip(p=1.0),\n",
        "        A.VerticalFlip(p=1.0),\n",
        "        A.Rotate(limit=[60, 300], p=1.0, interpolation=cv2.INTER_NEAREST),\n",
        "        A.RandomBrightnessContrast(brightness_limit=[-0.2, 0.3], contrast_limit=0.2, p=1.0),\n",
        "        A.OneOf([\n",
        "            A.CLAHE (clip_limit=1.5, tile_grid_size=(8, 8), p=0.5),\n",
        "            A.GridDistortion(p=0.5),\n",
        "            A.OpticalDistortion(distort_limit=1, shift_limit=0.5, interpolation=cv2.INTER_NEAREST, p=0.5),\n",
        "        ], p=1.0),\n",
        "    ], p=1.0)\n",
        "    \n",
        "    return transform"
      ],
      "metadata": {
        "execution": {
          "iopub.status.busy": "2021-06-30T08:35:31.315199Z",
          "iopub.execute_input": "2021-06-30T08:35:31.315682Z",
          "iopub.status.idle": "2021-06-30T08:35:31.322793Z",
          "shell.execute_reply.started": "2021-06-30T08:35:31.315644Z",
          "shell.execute_reply": "2021-06-30T08:35:31.321643Z"
        },
        "trusted": true,
        "id": "HoZ36uEoQxJN"
      },
      "execution_count": null,
      "outputs": []
    },
    {
      "cell_type": "code",
      "source": [
        "def visualize(image, mask, original_image=None, original_mask=None):\n",
        "    fontsize = 16\n",
        "\n",
        "    if original_image is None and original_mask is None:\n",
        "        f, ax = plt.subplots(2, 1, figsize=(10, 10), squeeze=True)\n",
        "        f.set_tight_layout(h_pad=5, w_pad=5)\n",
        "\n",
        "        ax[0].imshow(image)\n",
        "        ax[1].imshow(mask)\n",
        "    else:\n",
        "        f, ax = plt.subplots(2, 2, figsize=(16, 12), squeeze=True)\n",
        "        plt.tight_layout(pad=0.2, w_pad=1.0, h_pad=0.01)\n",
        "\n",
        "        ax[0, 0].imshow(original_image)\n",
        "        ax[0, 0].set_title('Original Image', fontsize=fontsize)\n",
        "\n",
        "        ax[1, 0].imshow(original_mask)\n",
        "        ax[1, 0].set_title('Original Mask', fontsize=fontsize)\n",
        "\n",
        "        ax[0, 1].imshow(image)\n",
        "        ax[0, 1].set_title('Transformed Image', fontsize=fontsize)\n",
        "\n",
        "        ax[1, 1].imshow(mask)\n",
        "        ax[1, 1].set_title('Transformed Mask', fontsize=fontsize)\n",
        "        \n",
        "    plt.savefig('sample_augmented_image.png', facecolor= 'w', transparent= False, bbox_inches= 'tight', dpi= 100)"
      ],
      "metadata": {
        "execution": {
          "iopub.status.busy": "2021-06-30T08:35:31.324333Z",
          "iopub.execute_input": "2021-06-30T08:35:31.324914Z",
          "iopub.status.idle": "2021-06-30T08:35:31.336512Z",
          "shell.execute_reply.started": "2021-06-30T08:35:31.324877Z",
          "shell.execute_reply": "2021-06-30T08:35:31.335314Z"
        },
        "trusted": true,
        "id": "1-A0CmcrQxJO"
      },
      "execution_count": null,
      "outputs": []
    },
    {
      "cell_type": "code",
      "source": [
        "from google.colab import drive\n",
        "drive.mount('/content/drive')"
      ],
      "metadata": {
        "colab": {
          "base_uri": "https://localhost:8080/"
        },
        "id": "mBMIzK_iRJma",
        "outputId": "e4b6facd-1746-4639-b198-7d780e5b8706"
      },
      "execution_count": null,
      "outputs": [
        {
          "output_type": "stream",
          "name": "stdout",
          "text": [
            "Mounted at /content/drive\n"
          ]
        }
      ]
    },
    {
      "cell_type": "markdown",
      "source": [
        "# Saving Augmented Images to Disk\n",
        "I have already performed data augmentation and saved the images. I am not running it's code in this notebook. It is a very time consuming process, so be patient while the code cell runs!"
      ],
      "metadata": {
        "id": "Pw-ZabCRQxJR"
      }
    },
    {
      "cell_type": "code",
      "source": [
        "!mkdir aug_images_test\n",
        "!mkdir aug_masks_test"
      ],
      "metadata": {
        "execution": {
          "iopub.status.busy": "2021-05-31T15:12:36.720347Z",
          "iopub.execute_input": "2021-05-31T15:12:36.720992Z",
          "iopub.status.idle": "2021-05-31T15:12:37.035353Z",
          "shell.execute_reply.started": "2021-05-31T15:12:36.720948Z",
          "shell.execute_reply": "2021-05-31T15:12:37.02254Z"
        },
        "trusted": true,
        "id": "yW-KmguvQxJS"
      },
      "execution_count": null,
      "outputs": []
    },
    {
      "cell_type": "code",
      "source": [
        "images_dir = '/content/drive/MyDrive/data_cambodia/data2/test/images/'\n",
        "masks_dir = '/content/drive/MyDrive/data_cambodia/data2/test/mask/'"
      ],
      "metadata": {
        "execution": {
          "iopub.status.busy": "2021-05-31T15:12:37.040965Z",
          "iopub.status.idle": "2021-05-31T15:12:37.044696Z"
        },
        "trusted": true,
        "id": "SXTWv9xxQxJS"
      },
      "execution_count": null,
      "outputs": []
    },
    {
      "cell_type": "code",
      "source": [
        "file_names = np.sort(os.listdir(images_dir)) \n",
        "file_names = np.char.split(file_names, '.')\n",
        "filenames = np.array([])\n",
        "for i in range(len(file_names)):\n",
        "    filenames = np.append(filenames, file_names[i][0])"
      ],
      "metadata": {
        "execution": {
          "iopub.status.busy": "2021-05-31T15:12:37.050865Z",
          "iopub.status.idle": "2021-05-31T15:12:37.054617Z"
        },
        "trusted": true,
        "id": "x3BztEEWQxJT"
      },
      "execution_count": null,
      "outputs": []
    },
    {
      "cell_type": "code",
      "source": [
        "def augment_dataset(count):\n",
        "\n",
        "    transform_1 = augment(512, 512)\n",
        "    transform_2 = augment(480, 480)\n",
        "    transform_3 = augment(512, 512)\n",
        "    transform_4 = augment(800, 800)\n",
        "    transform_5 = augment(1024, 1024)\n",
        "    transform_6 = augment(800, 800)\n",
        "    transform_7 = augment(1600, 1600)\n",
        "    transform_8 = augment(1920, 1280)\n",
        "    \n",
        "    i = 0\n",
        "    for i in range(count):\n",
        "        for file in filenames:\n",
        "            #tile = file.split('_')[1]\n",
        "            img = cv2.imread(images_dir+file+'.jpg')\n",
        "            img = cv2.cvtColor(img, cv2.COLOR_BGR2RGB)\n",
        "            mask = cv2.imread(masks_dir+file+'.png')\n",
        "            mask = cv2.cvtColor(mask, cv2.COLOR_BGR2RGB)\n",
        "            transformed = transform_1(image=img, mask=mask)\n",
        "            transformed_image = transformed['image']\n",
        "            transformed_mask = transformed['mask']\n",
        "\n",
        "                \n",
        "            cv2.imwrite('./aug_images_test/aug_{}_'.format(str(i+1))+file+'.jpg',cv2.cvtColor(transformed_image, cv2.COLOR_BGR2RGB))\n",
        "            cv2.imwrite('./aug_masks_test/aug_{}_'.format(str(i+1))+file+'.png',cv2.cvtColor(transformed_mask, cv2.COLOR_BGR2RGB))"
      ],
      "metadata": {
        "execution": {
          "iopub.status.busy": "2021-05-31T15:12:37.066412Z",
          "iopub.status.idle": "2021-05-31T15:12:37.067646Z"
        },
        "trusted": true,
        "id": "bFJWyC56QxJT"
      },
      "execution_count": null,
      "outputs": []
    },
    {
      "cell_type": "code",
      "source": [
        "augment_dataset(8)"
      ],
      "metadata": {
        "execution": {
          "iopub.status.busy": "2021-05-31T15:12:37.076516Z",
          "iopub.status.idle": "2021-05-31T15:12:37.077744Z"
        },
        "trusted": true,
        "id": "Qd-lwXIJQxJU"
      },
      "execution_count": null,
      "outputs": []
    },
    {
      "cell_type": "code",
      "source": [
        "!zip -r aug_images.zip './aug_images_test/'\n",
        "!zip -r aug_masks.zip './aug_masks_test/'"
      ],
      "metadata": {
        "execution": {
          "iopub.status.busy": "2021-05-31T15:12:37.079667Z",
          "iopub.status.idle": "2021-05-31T15:12:37.080939Z"
        },
        "trusted": true,
        "colab": {
          "base_uri": "https://localhost:8080/"
        },
        "id": "UCQcMpmJQxJU",
        "outputId": "2a4f2c5a-87c0-469c-804b-111b93f89ab9"
      },
      "execution_count": null,
      "outputs": [
        {
          "output_type": "stream",
          "name": "stdout",
          "text": [
            "  adding: aug_images_test/ (stored 0%)\n",
            "  adding: aug_images_test/aug_8_IMG_1427.jpg (deflated 0%)\n",
            "  adding: aug_images_test/aug_3_IMG_1433.jpg (deflated 0%)\n",
            "  adding: aug_images_test/aug_1_IMG_1380.jpg (deflated 1%)\n",
            "  adding: aug_images_test/aug_7_IMG_1543.jpg (deflated 1%)\n",
            "  adding: aug_images_test/aug_8_IMG_1479.jpg (deflated 1%)\n",
            "  adding: aug_images_test/aug_7_IMG_1438.jpg (deflated 1%)\n",
            "  adding: aug_images_test/aug_6_IMG_1433.jpg (deflated 1%)\n",
            "  adding: aug_images_test/aug_7_IMG_1433.jpg (deflated 0%)\n",
            "  adding: aug_images_test/aug_6_IMG_1557.jpg (deflated 0%)\n",
            "  adding: aug_images_test/aug_5_IMG_1465.jpg (deflated 0%)\n",
            "  adding: aug_images_test/aug_8_IMG_1498.jpg (deflated 1%)\n",
            "  adding: aug_images_test/aug_7_IMG_1530.jpg (deflated 4%)\n",
            "  adding: aug_images_test/aug_2_IMG_1521.jpg (deflated 14%)\n",
            "  adding: aug_images_test/aug_3_IMG_1438.jpg (deflated 0%)\n",
            "  adding: aug_images_test/aug_4_IMG_1427.jpg (deflated 1%)\n",
            "  adding: aug_images_test/aug_7_IMG_1392.jpg (deflated 0%)\n",
            "  adding: aug_images_test/aug_5_IMG_1552.jpg (deflated 0%)\n",
            "  adding: aug_images_test/aug_8_IMG_1429.jpg (deflated 0%)\n",
            "  adding: aug_images_test/aug_6_IMG_1380.jpg (deflated 0%)\n",
            "  adding: aug_images_test/aug_4_IMG_1530.jpg (deflated 1%)\n",
            "  adding: aug_images_test/aug_4_IMG_1441.jpg (deflated 1%)\n",
            "  adding: aug_images_test/aug_8_IMG_1433.jpg (deflated 0%)\n",
            "  adding: aug_images_test/aug_1_IMG_1551.jpg (deflated 0%)\n",
            "  adding: aug_images_test/aug_3_IMG_1389.jpg (deflated 0%)\n",
            "  adding: aug_images_test/aug_6_IMG_1465.jpg (deflated 1%)\n",
            "  adding: aug_images_test/aug_8_IMG_1380.jpg (deflated 0%)\n",
            "  adding: aug_images_test/aug_7_IMG_1389.jpg (deflated 1%)\n",
            "  adding: aug_images_test/aug_7_IMG_1539.jpg (deflated 0%)\n",
            "  adding: aug_images_test/aug_4_IMG_1557.jpg (deflated 1%)\n",
            "  adding: aug_images_test/aug_8_IMG_1539.jpg (deflated 1%)\n",
            "  adding: aug_images_test/aug_3_IMG_1429.jpg (deflated 1%)\n",
            "  adding: aug_images_test/aug_2_IMG_1427.jpg (deflated 0%)\n",
            "  adding: aug_images_test/aug_5_IMG_1441.jpg (deflated 0%)\n",
            "  adding: aug_images_test/aug_8_IMG_1530.jpg (deflated 1%)\n",
            "  adding: aug_images_test/aug_7_IMG_1441.jpg (deflated 0%)\n",
            "  adding: aug_images_test/aug_3_IMG_1479.jpg (deflated 0%)\n",
            "  adding: aug_images_test/aug_4_IMG_1543.jpg (deflated 0%)\n",
            "  adding: aug_images_test/aug_6_IMG_1521.jpg (deflated 1%)\n",
            "  adding: aug_images_test/aug_8_IMG_1557.jpg (deflated 10%)\n",
            "  adding: aug_images_test/aug_1_IMG_1539.jpg (deflated 0%)\n",
            "  adding: aug_images_test/aug_5_IMG_1479.jpg (deflated 4%)\n",
            "  adding: aug_images_test/aug_4_IMG_1433.jpg (deflated 0%)\n",
            "  adding: aug_images_test/aug_1_IMG_1464.jpg (deflated 0%)\n",
            "  adding: aug_images_test/aug_2_IMG_1483.jpg (deflated 1%)\n",
            "  adding: aug_images_test/aug_6_IMG_1392.jpg (deflated 2%)\n",
            "  adding: aug_images_test/aug_8_IMG_1543.jpg (deflated 1%)\n",
            "  adding: aug_images_test/aug_3_IMG_1465.jpg (deflated 0%)\n",
            "  adding: aug_images_test/aug_2_IMG_1464.jpg (deflated 1%)\n",
            "  adding: aug_images_test/aug_4_IMG_1464.jpg (deflated 1%)\n",
            "  adding: aug_images_test/aug_4_IMG_1380.jpg (deflated 0%)\n",
            "  adding: aug_images_test/aug_7_IMG_1465.jpg (deflated 1%)\n",
            "  adding: aug_images_test/aug_6_IMG_1479.jpg (deflated 1%)\n",
            "  adding: aug_images_test/aug_5_IMG_1392.jpg (deflated 5%)\n",
            "  adding: aug_images_test/aug_1_IMG_1429.jpg (deflated 0%)\n",
            "  adding: aug_images_test/aug_4_IMG_1429.jpg (deflated 0%)\n",
            "  adding: aug_images_test/aug_1_IMG_1427.jpg (deflated 0%)\n",
            "  adding: aug_images_test/aug_5_IMG_1530.jpg (deflated 0%)\n",
            "  adding: aug_images_test/aug_4_IMG_1539.jpg (deflated 0%)\n",
            "  adding: aug_images_test/aug_1_IMG_1389.jpg (deflated 1%)\n",
            "  adding: aug_images_test/aug_8_IMG_1392.jpg (deflated 1%)\n",
            "  adding: aug_images_test/aug_6_IMG_1498.jpg (deflated 1%)\n",
            "  adding: aug_images_test/aug_8_IMG_1389.jpg (deflated 0%)\n",
            "  adding: aug_images_test/aug_5_IMG_1389.jpg (deflated 1%)\n",
            "  adding: aug_images_test/aug_6_IMG_1532.jpg (deflated 1%)\n",
            "  adding: aug_images_test/aug_7_IMG_1464.jpg (deflated 1%)\n",
            "  adding: aug_images_test/aug_3_IMG_1498.jpg (deflated 0%)\n",
            "  adding: aug_images_test/aug_2_IMG_1441.jpg (deflated 0%)\n",
            "  adding: aug_images_test/aug_5_IMG_1483.jpg (deflated 1%)\n",
            "  adding: aug_images_test/aug_6_IMG_1539.jpg (deflated 0%)\n",
            "  adding: aug_images_test/aug_7_IMG_1532.jpg (deflated 2%)\n",
            "  adding: aug_images_test/aug_1_IMG_1521.jpg (deflated 1%)\n",
            "  adding: aug_images_test/aug_5_IMG_1438.jpg (deflated 0%)\n",
            "  adding: aug_images_test/aug_2_IMG_1392.jpg (deflated 0%)\n",
            "  adding: aug_images_test/aug_7_IMG_1427.jpg (deflated 0%)\n",
            "  adding: aug_images_test/aug_4_IMG_1521.jpg (deflated 0%)\n",
            "  adding: aug_images_test/aug_2_IMG_1552.jpg (deflated 0%)\n",
            "  adding: aug_images_test/aug_7_IMG_1380.jpg (deflated 1%)\n",
            "  adding: aug_images_test/aug_1_IMG_1483.jpg (deflated 0%)\n",
            "  adding: aug_images_test/aug_6_IMG_1483.jpg (deflated 0%)\n",
            "  adding: aug_images_test/aug_1_IMG_1552.jpg (deflated 0%)\n",
            "  adding: aug_images_test/aug_5_IMG_1539.jpg (deflated 0%)\n",
            "  adding: aug_images_test/aug_2_IMG_1465.jpg (deflated 0%)\n",
            "  adding: aug_images_test/aug_1_IMG_1441.jpg (deflated 1%)\n",
            "  adding: aug_images_test/aug_5_IMG_1557.jpg (deflated 4%)\n",
            "  adding: aug_images_test/aug_6_IMG_1543.jpg (deflated 0%)\n",
            "  adding: aug_images_test/aug_6_IMG_1389.jpg (deflated 1%)\n",
            "  adding: aug_images_test/aug_6_IMG_1429.jpg (deflated 1%)\n",
            "  adding: aug_images_test/aug_3_IMG_1552.jpg (deflated 0%)\n",
            "  adding: aug_images_test/aug_7_IMG_1498.jpg (deflated 0%)\n",
            "  adding: aug_images_test/aug_3_IMG_1521.jpg (deflated 4%)\n",
            "  adding: aug_images_test/aug_3_IMG_1551.jpg (deflated 1%)\n",
            "  adding: aug_images_test/aug_8_IMG_1464.jpg (deflated 1%)\n",
            "  adding: aug_images_test/aug_3_IMG_1464.jpg (deflated 1%)\n",
            "  adding: aug_images_test/aug_6_IMG_1441.jpg (deflated 0%)\n",
            "  adding: aug_images_test/aug_4_IMG_1551.jpg (deflated 1%)\n",
            "  adding: aug_images_test/aug_8_IMG_1521.jpg (deflated 2%)\n",
            "  adding: aug_images_test/aug_4_IMG_1483.jpg (deflated 1%)\n",
            "  adding: aug_images_test/aug_2_IMG_1530.jpg (deflated 1%)\n",
            "  adding: aug_images_test/aug_3_IMG_1483.jpg (deflated 0%)\n",
            "  adding: aug_images_test/aug_2_IMG_1557.jpg (deflated 0%)\n",
            "  adding: aug_images_test/aug_4_IMG_1498.jpg (deflated 1%)\n",
            "  adding: aug_images_test/aug_3_IMG_1532.jpg (deflated 1%)\n",
            "  adding: aug_images_test/aug_3_IMG_1392.jpg (deflated 1%)\n",
            "  adding: aug_images_test/aug_8_IMG_1483.jpg (deflated 0%)\n",
            "  adding: aug_images_test/aug_7_IMG_1551.jpg (deflated 1%)\n",
            "  adding: aug_images_test/aug_8_IMG_1441.jpg (deflated 1%)\n",
            "  adding: aug_images_test/aug_2_IMG_1389.jpg (deflated 0%)\n",
            "  adding: aug_images_test/aug_7_IMG_1521.jpg (deflated 4%)\n",
            "  adding: aug_images_test/aug_4_IMG_1392.jpg (deflated 1%)\n",
            "  adding: aug_images_test/aug_1_IMG_1532.jpg (deflated 1%)\n",
            "  adding: aug_images_test/aug_2_IMG_1539.jpg (deflated 1%)\n",
            "  adding: aug_images_test/aug_2_IMG_1429.jpg (deflated 1%)\n",
            "  adding: aug_images_test/aug_7_IMG_1557.jpg (deflated 1%)\n",
            "  adding: aug_images_test/aug_3_IMG_1380.jpg (deflated 0%)\n",
            "  adding: aug_images_test/aug_1_IMG_1392.jpg (deflated 1%)\n",
            "  adding: aug_images_test/aug_5_IMG_1429.jpg (deflated 0%)\n",
            "  adding: aug_images_test/aug_1_IMG_1433.jpg (deflated 0%)\n",
            "  adding: aug_images_test/aug_2_IMG_1543.jpg (deflated 0%)\n",
            "  adding: aug_images_test/aug_2_IMG_1438.jpg (deflated 0%)\n",
            "  adding: aug_images_test/aug_4_IMG_1532.jpg (deflated 1%)\n",
            "  adding: aug_images_test/aug_4_IMG_1438.jpg (deflated 0%)\n",
            "  adding: aug_images_test/aug_6_IMG_1464.jpg (deflated 1%)\n",
            "  adding: aug_images_test/aug_3_IMG_1441.jpg (deflated 0%)\n",
            "  adding: aug_images_test/aug_2_IMG_1479.jpg (deflated 1%)\n",
            "  adding: aug_images_test/aug_8_IMG_1551.jpg (deflated 1%)\n",
            "  adding: aug_images_test/aug_5_IMG_1464.jpg (deflated 1%)\n",
            "  adding: aug_images_test/aug_7_IMG_1429.jpg (deflated 0%)\n",
            "  adding: aug_images_test/aug_4_IMG_1389.jpg (deflated 0%)\n",
            "  adding: aug_images_test/aug_5_IMG_1532.jpg (deflated 1%)\n",
            "  adding: aug_images_test/aug_2_IMG_1380.jpg (deflated 1%)\n",
            "  adding: aug_images_test/aug_4_IMG_1552.jpg (deflated 0%)\n",
            "  adding: aug_images_test/aug_1_IMG_1479.jpg (deflated 0%)\n",
            "  adding: aug_images_test/aug_1_IMG_1498.jpg (deflated 0%)\n",
            "  adding: aug_images_test/aug_3_IMG_1427.jpg (deflated 0%)\n",
            "  adding: aug_images_test/aug_5_IMG_1433.jpg (deflated 0%)\n",
            "  adding: aug_images_test/aug_6_IMG_1551.jpg (deflated 1%)\n",
            "  adding: aug_images_test/aug_3_IMG_1530.jpg (deflated 1%)\n",
            "  adding: aug_images_test/aug_1_IMG_1557.jpg (deflated 1%)\n",
            "  adding: aug_images_test/aug_6_IMG_1552.jpg (deflated 1%)\n",
            "  adding: aug_images_test/aug_8_IMG_1465.jpg (deflated 2%)\n",
            "  adding: aug_images_test/aug_3_IMG_1539.jpg (deflated 1%)\n",
            "  adding: aug_images_test/aug_1_IMG_1465.jpg (deflated 0%)\n",
            "  adding: aug_images_test/aug_6_IMG_1530.jpg (deflated 1%)\n",
            "  adding: aug_images_test/aug_1_IMG_1530.jpg (deflated 42%)\n",
            "  adding: aug_images_test/aug_1_IMG_1438.jpg (deflated 0%)\n",
            "  adding: aug_images_test/aug_6_IMG_1427.jpg (deflated 1%)\n",
            "  adding: aug_images_test/aug_8_IMG_1552.jpg (deflated 0%)\n",
            "  adding: aug_images_test/aug_5_IMG_1427.jpg (deflated 0%)\n",
            "  adding: aug_images_test/aug_7_IMG_1552.jpg (deflated 0%)\n",
            "  adding: aug_images_test/aug_4_IMG_1479.jpg (deflated 1%)\n",
            "  adding: aug_images_test/aug_2_IMG_1551.jpg (deflated 1%)\n",
            "  adding: aug_images_test/aug_3_IMG_1557.jpg (deflated 3%)\n",
            "  adding: aug_images_test/aug_7_IMG_1479.jpg (deflated 1%)\n",
            "  adding: aug_images_test/aug_8_IMG_1532.jpg (deflated 2%)\n",
            "  adding: aug_images_test/aug_3_IMG_1543.jpg (deflated 1%)\n",
            "  adding: aug_images_test/aug_6_IMG_1438.jpg (deflated 0%)\n",
            "  adding: aug_images_test/aug_2_IMG_1498.jpg (deflated 0%)\n",
            "  adding: aug_images_test/aug_2_IMG_1532.jpg (deflated 1%)\n",
            "  adding: aug_images_test/aug_4_IMG_1465.jpg (deflated 1%)\n",
            "  adding: aug_images_test/aug_5_IMG_1551.jpg (deflated 0%)\n",
            "  adding: aug_images_test/aug_2_IMG_1433.jpg (deflated 0%)\n",
            "  adding: aug_images_test/aug_8_IMG_1438.jpg (deflated 0%)\n",
            "  adding: aug_images_test/aug_5_IMG_1521.jpg (deflated 0%)\n",
            "  adding: aug_images_test/aug_5_IMG_1543.jpg (deflated 1%)\n",
            "  adding: aug_images_test/aug_5_IMG_1380.jpg (deflated 0%)\n",
            "  adding: aug_images_test/aug_5_IMG_1498.jpg (deflated 1%)\n",
            "  adding: aug_images_test/aug_7_IMG_1483.jpg (deflated 0%)\n",
            "  adding: aug_images_test/aug_1_IMG_1543.jpg (deflated 1%)\n",
            "  adding: aug_masks_test/ (stored 0%)\n",
            "  adding: aug_masks_test/aug_8_IMG_1389.png (deflated 39%)\n",
            "  adding: aug_masks_test/aug_7_IMG_1532.png (deflated 31%)\n",
            "  adding: aug_masks_test/aug_1_IMG_1465.png (deflated 29%)\n",
            "  adding: aug_masks_test/aug_7_IMG_1380.png (deflated 35%)\n",
            "  adding: aug_masks_test/aug_8_IMG_1465.png (deflated 27%)\n",
            "  adding: aug_masks_test/aug_5_IMG_1483.png (deflated 47%)\n",
            "  adding: aug_masks_test/aug_8_IMG_1552.png (deflated 40%)\n",
            "  adding: aug_masks_test/aug_3_IMG_1532.png (deflated 28%)\n",
            "  adding: aug_masks_test/aug_2_IMG_1392.png (deflated 30%)\n",
            "  adding: aug_masks_test/aug_3_IMG_1521.png (deflated 32%)\n",
            "  adding: aug_masks_test/aug_1_IMG_1380.png (deflated 45%)\n",
            "  adding: aug_masks_test/aug_1_IMG_1539.png (deflated 94%)\n",
            "  adding: aug_masks_test/aug_5_IMG_1464.png (deflated 54%)\n",
            "  adding: aug_masks_test/aug_4_IMG_1465.png (deflated 30%)\n",
            "  adding: aug_masks_test/aug_2_IMG_1552.png (deflated 56%)\n",
            "  adding: aug_masks_test/aug_5_IMG_1392.png (deflated 28%)\n",
            "  adding: aug_masks_test/aug_2_IMG_1551.png (deflated 32%)\n",
            "  adding: aug_masks_test/aug_7_IMG_1427.png (deflated 24%)\n",
            "  adding: aug_masks_test/aug_4_IMG_1552.png (deflated 37%)\n",
            "  adding: aug_masks_test/aug_8_IMG_1380.png (deflated 31%)\n",
            "  adding: aug_masks_test/aug_6_IMG_1429.png (deflated 49%)\n",
            "  adding: aug_masks_test/aug_6_IMG_1465.png (deflated 37%)\n",
            "  adding: aug_masks_test/aug_3_IMG_1429.png (deflated 52%)\n",
            "  adding: aug_masks_test/aug_3_IMG_1392.png (deflated 32%)\n",
            "  adding: aug_masks_test/aug_3_IMG_1539.png (deflated 94%)\n",
            "  adding: aug_masks_test/aug_4_IMG_1539.png (deflated 94%)\n",
            "  adding: aug_masks_test/aug_7_IMG_1465.png (deflated 32%)\n",
            "  adding: aug_masks_test/aug_1_IMG_1433.png (deflated 36%)\n",
            "  adding: aug_masks_test/aug_7_IMG_1392.png (deflated 29%)\n",
            "  adding: aug_masks_test/aug_6_IMG_1551.png (deflated 33%)\n",
            "  adding: aug_masks_test/aug_7_IMG_1441.png (deflated 40%)\n",
            "  adding: aug_masks_test/aug_2_IMG_1521.png (deflated 28%)\n",
            "  adding: aug_masks_test/aug_7_IMG_1551.png (deflated 63%)\n",
            "  adding: aug_masks_test/aug_6_IMG_1543.png (deflated 94%)\n",
            "  adding: aug_masks_test/aug_6_IMG_1498.png (deflated 94%)\n",
            "  adding: aug_masks_test/aug_3_IMG_1438.png (deflated 38%)\n",
            "  adding: aug_masks_test/aug_4_IMG_1433.png (deflated 33%)\n",
            "  adding: aug_masks_test/aug_8_IMG_1464.png (deflated 60%)\n",
            "  adding: aug_masks_test/aug_3_IMG_1530.png (deflated 36%)\n",
            "  adding: aug_masks_test/aug_4_IMG_1543.png (deflated 94%)\n",
            "  adding: aug_masks_test/aug_2_IMG_1427.png (deflated 25%)\n",
            "  adding: aug_masks_test/aug_6_IMG_1441.png (deflated 31%)\n",
            "  adding: aug_masks_test/aug_7_IMG_1479.png (deflated 37%)\n",
            "  adding: aug_masks_test/aug_5_IMG_1551.png (deflated 63%)\n",
            "  adding: aug_masks_test/aug_3_IMG_1427.png (deflated 23%)\n",
            "  adding: aug_masks_test/aug_1_IMG_1479.png (deflated 36%)\n",
            "  adding: aug_masks_test/aug_4_IMG_1530.png (deflated 34%)\n",
            "  adding: aug_masks_test/aug_1_IMG_1429.png (deflated 44%)\n",
            "  adding: aug_masks_test/aug_8_IMG_1498.png (deflated 46%)\n",
            "  adding: aug_masks_test/aug_8_IMG_1438.png (deflated 38%)\n",
            "  adding: aug_masks_test/aug_5_IMG_1438.png (deflated 34%)\n",
            "  adding: aug_masks_test/aug_5_IMG_1441.png (deflated 36%)\n",
            "  adding: aug_masks_test/aug_1_IMG_1441.png (deflated 36%)\n",
            "  adding: aug_masks_test/aug_2_IMG_1465.png (deflated 31%)\n",
            "  adding: aug_masks_test/aug_5_IMG_1521.png (deflated 28%)\n",
            "  adding: aug_masks_test/aug_8_IMG_1551.png (deflated 45%)\n",
            "  adding: aug_masks_test/aug_5_IMG_1429.png (deflated 34%)\n",
            "  adding: aug_masks_test/aug_1_IMG_1551.png (deflated 34%)\n",
            "  adding: aug_masks_test/aug_7_IMG_1543.png (deflated 94%)\n",
            "  adding: aug_masks_test/aug_6_IMG_1427.png (deflated 22%)\n",
            "  adding: aug_masks_test/aug_4_IMG_1380.png (deflated 32%)\n",
            "  adding: aug_masks_test/aug_1_IMG_1498.png (deflated 37%)\n",
            "  adding: aug_masks_test/aug_2_IMG_1429.png (deflated 65%)\n",
            "  adding: aug_masks_test/aug_6_IMG_1464.png (deflated 95%)\n",
            "  adding: aug_masks_test/aug_8_IMG_1441.png (deflated 48%)\n",
            "  adding: aug_masks_test/aug_6_IMG_1483.png (deflated 51%)\n",
            "  adding: aug_masks_test/aug_5_IMG_1433.png (deflated 31%)\n",
            "  adding: aug_masks_test/aug_1_IMG_1464.png (deflated 67%)\n",
            "  adding: aug_masks_test/aug_6_IMG_1539.png (deflated 94%)\n",
            "  adding: aug_masks_test/aug_7_IMG_1498.png (deflated 94%)\n",
            "  adding: aug_masks_test/aug_7_IMG_1429.png (deflated 36%)\n",
            "  adding: aug_masks_test/aug_2_IMG_1530.png (deflated 35%)\n",
            "  adding: aug_masks_test/aug_3_IMG_1498.png (deflated 57%)\n",
            "  adding: aug_masks_test/aug_5_IMG_1427.png (deflated 24%)\n",
            "  adding: aug_masks_test/aug_4_IMG_1521.png (deflated 27%)\n",
            "  adding: aug_masks_test/aug_8_IMG_1530.png (deflated 31%)\n",
            "  adding: aug_masks_test/aug_3_IMG_1557.png (deflated 34%)\n",
            "  adding: aug_masks_test/aug_8_IMG_1427.png (deflated 35%)\n",
            "  adding: aug_masks_test/aug_3_IMG_1464.png (deflated 57%)\n",
            "  adding: aug_masks_test/aug_8_IMG_1532.png (deflated 40%)\n",
            "  adding: aug_masks_test/aug_6_IMG_1438.png (deflated 37%)\n",
            "  adding: aug_masks_test/aug_2_IMG_1389.png (deflated 45%)\n",
            "  adding: aug_masks_test/aug_4_IMG_1427.png (deflated 23%)\n",
            "  adding: aug_masks_test/aug_8_IMG_1521.png (deflated 27%)\n",
            "  adding: aug_masks_test/aug_5_IMG_1539.png (deflated 94%)\n",
            "  adding: aug_masks_test/aug_2_IMG_1464.png (deflated 95%)\n",
            "  adding: aug_masks_test/aug_8_IMG_1433.png (deflated 35%)\n",
            "  adding: aug_masks_test/aug_5_IMG_1552.png (deflated 39%)\n",
            "  adding: aug_masks_test/aug_1_IMG_1389.png (deflated 49%)\n",
            "  adding: aug_masks_test/aug_3_IMG_1543.png (deflated 94%)\n",
            "  adding: aug_masks_test/aug_4_IMG_1551.png (deflated 44%)\n",
            "  adding: aug_masks_test/aug_5_IMG_1543.png (deflated 94%)\n",
            "  adding: aug_masks_test/aug_6_IMG_1532.png (deflated 30%)\n",
            "  adding: aug_masks_test/aug_2_IMG_1498.png (deflated 35%)\n",
            "  adding: aug_masks_test/aug_7_IMG_1389.png (deflated 49%)\n",
            "  adding: aug_masks_test/aug_3_IMG_1552.png (deflated 38%)\n",
            "  adding: aug_masks_test/aug_3_IMG_1465.png (deflated 33%)\n",
            "  adding: aug_masks_test/aug_8_IMG_1429.png (deflated 51%)\n",
            "  adding: aug_masks_test/aug_4_IMG_1429.png (deflated 40%)\n",
            "  adding: aug_masks_test/aug_6_IMG_1530.png (deflated 30%)\n",
            "  adding: aug_masks_test/aug_4_IMG_1392.png (deflated 30%)\n",
            "  adding: aug_masks_test/aug_1_IMG_1438.png (deflated 39%)\n",
            "  adding: aug_masks_test/aug_7_IMG_1433.png (deflated 31%)\n",
            "  adding: aug_masks_test/aug_7_IMG_1530.png (deflated 33%)\n",
            "  adding: aug_masks_test/aug_2_IMG_1539.png (deflated 94%)\n",
            "  adding: aug_masks_test/aug_7_IMG_1483.png (deflated 40%)\n",
            "  adding: aug_masks_test/aug_1_IMG_1427.png (deflated 23%)\n",
            "  adding: aug_masks_test/aug_2_IMG_1543.png (deflated 94%)\n",
            "  adding: aug_masks_test/aug_6_IMG_1389.png (deflated 59%)\n",
            "  adding: aug_masks_test/aug_7_IMG_1539.png (deflated 94%)\n",
            "  adding: aug_masks_test/aug_4_IMG_1464.png (deflated 58%)\n",
            "  adding: aug_masks_test/aug_7_IMG_1557.png (deflated 30%)\n",
            "  adding: aug_masks_test/aug_4_IMG_1557.png (deflated 35%)\n",
            "  adding: aug_masks_test/aug_4_IMG_1532.png (deflated 30%)\n",
            "  adding: aug_masks_test/aug_5_IMG_1498.png (deflated 94%)\n",
            "  adding: aug_masks_test/aug_6_IMG_1557.png (deflated 33%)\n",
            "  adding: aug_masks_test/aug_8_IMG_1539.png (deflated 44%)\n",
            "  adding: aug_masks_test/aug_3_IMG_1479.png (deflated 33%)\n",
            "  adding: aug_masks_test/aug_2_IMG_1483.png (deflated 47%)\n",
            "  adding: aug_masks_test/aug_3_IMG_1483.png (deflated 41%)\n",
            "  adding: aug_masks_test/aug_2_IMG_1557.png (deflated 34%)\n",
            "  adding: aug_masks_test/aug_6_IMG_1521.png (deflated 30%)\n",
            "  adding: aug_masks_test/aug_5_IMG_1530.png (deflated 37%)\n",
            "  adding: aug_masks_test/aug_2_IMG_1438.png (deflated 41%)\n",
            "  adding: aug_masks_test/aug_7_IMG_1521.png (deflated 28%)\n",
            "  adding: aug_masks_test/aug_5_IMG_1380.png (deflated 27%)\n",
            "  adding: aug_masks_test/aug_6_IMG_1479.png (deflated 32%)\n",
            "  adding: aug_masks_test/aug_8_IMG_1392.png (deflated 35%)\n",
            "  adding: aug_masks_test/aug_1_IMG_1543.png (deflated 94%)\n",
            "  adding: aug_masks_test/aug_1_IMG_1483.png (deflated 39%)\n",
            "  adding: aug_masks_test/aug_6_IMG_1433.png (deflated 44%)\n",
            "  adding: aug_masks_test/aug_8_IMG_1479.png (deflated 50%)\n",
            "  adding: aug_masks_test/aug_7_IMG_1552.png (deflated 39%)\n",
            "  adding: aug_masks_test/aug_1_IMG_1530.png (deflated 29%)\n",
            "  adding: aug_masks_test/aug_5_IMG_1532.png (deflated 26%)\n",
            "  adding: aug_masks_test/aug_3_IMG_1433.png (deflated 40%)\n",
            "  adding: aug_masks_test/aug_2_IMG_1433.png (deflated 48%)\n",
            "  adding: aug_masks_test/aug_1_IMG_1521.png (deflated 29%)\n",
            "  adding: aug_masks_test/aug_5_IMG_1479.png (deflated 31%)\n",
            "  adding: aug_masks_test/aug_8_IMG_1483.png (deflated 59%)\n",
            "  adding: aug_masks_test/aug_1_IMG_1532.png (deflated 29%)\n",
            "  adding: aug_masks_test/aug_6_IMG_1392.png (deflated 48%)\n",
            "  adding: aug_masks_test/aug_4_IMG_1483.png (deflated 47%)\n",
            "  adding: aug_masks_test/aug_7_IMG_1438.png (deflated 35%)\n",
            "  adding: aug_masks_test/aug_5_IMG_1389.png (deflated 87%)\n",
            "  adding: aug_masks_test/aug_3_IMG_1389.png (deflated 95%)\n",
            "  adding: aug_masks_test/aug_3_IMG_1441.png (deflated 30%)\n",
            "  adding: aug_masks_test/aug_8_IMG_1543.png (deflated 94%)\n",
            "  adding: aug_masks_test/aug_4_IMG_1479.png (deflated 42%)\n",
            "  adding: aug_masks_test/aug_6_IMG_1380.png (deflated 29%)\n",
            "  adding: aug_masks_test/aug_4_IMG_1441.png (deflated 39%)\n",
            "  adding: aug_masks_test/aug_3_IMG_1380.png (deflated 33%)\n",
            "  adding: aug_masks_test/aug_2_IMG_1441.png (deflated 38%)\n",
            "  adding: aug_masks_test/aug_1_IMG_1557.png (deflated 30%)\n",
            "  adding: aug_masks_test/aug_4_IMG_1438.png (deflated 38%)\n",
            "  adding: aug_masks_test/aug_2_IMG_1479.png (deflated 36%)\n",
            "  adding: aug_masks_test/aug_6_IMG_1552.png (deflated 35%)\n",
            "  adding: aug_masks_test/aug_4_IMG_1498.png (deflated 94%)\n",
            "  adding: aug_masks_test/aug_3_IMG_1551.png (deflated 45%)\n",
            "  adding: aug_masks_test/aug_1_IMG_1392.png (deflated 47%)\n",
            "  adding: aug_masks_test/aug_2_IMG_1532.png (deflated 32%)\n",
            "  adding: aug_masks_test/aug_5_IMG_1557.png (deflated 35%)\n",
            "  adding: aug_masks_test/aug_1_IMG_1552.png (deflated 50%)\n",
            "  adding: aug_masks_test/aug_8_IMG_1557.png (deflated 36%)\n",
            "  adding: aug_masks_test/aug_2_IMG_1380.png (deflated 36%)\n",
            "  adding: aug_masks_test/aug_4_IMG_1389.png (deflated 50%)\n",
            "  adding: aug_masks_test/aug_7_IMG_1464.png (deflated 59%)\n",
            "  adding: aug_masks_test/aug_5_IMG_1465.png (deflated 27%)\n"
          ]
        }
      ]
    },
    {
      "cell_type": "code",
      "source": [
        "!rm -rf './aug_images_val/'\n",
        "!rm -rf './aug_masks_val/'"
      ],
      "metadata": {
        "execution": {
          "iopub.status.busy": "2021-05-31T15:12:37.082888Z",
          "iopub.status.idle": "2021-05-31T15:12:37.089213Z"
        },
        "trusted": true,
        "id": "iiP_dlwJQxJV"
      },
      "execution_count": null,
      "outputs": []
    },
    {
      "cell_type": "code",
      "source": [
        "train_images = \"/content/drive/MyDrive/0_imgSeg_Cambodia/data/augData/aug_images_train\"\n",
        "train_masks = \"/content/drive/MyDrive/0_imgSeg_Cambodia/data/augData/aug_masks_train\"\n",
        "val_images = \"/content/drive/MyDrive/0_imgSeg_Cambodia/data/augData/aug_images_val\"\n",
        "val_masks = \"/content/drive/MyDrive/0_imgSeg_Cambodia/data/augData/aug_masks_val\""
      ],
      "metadata": {
        "execution": {
          "iopub.status.busy": "2021-06-30T08:36:11.756987Z",
          "iopub.execute_input": "2021-06-30T08:36:11.757301Z",
          "iopub.status.idle": "2021-06-30T08:36:11.76204Z",
          "shell.execute_reply.started": "2021-06-30T08:36:11.757271Z",
          "shell.execute_reply": "2021-06-30T08:36:11.7611Z"
        },
        "trusted": true,
        "id": "YwNelpT6QxJV"
      },
      "execution_count": null,
      "outputs": []
    }
  ]
}